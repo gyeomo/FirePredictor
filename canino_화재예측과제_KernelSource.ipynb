{
 "cells": [
  {
   "cell_type": "markdown",
   "metadata": {},
   "source": [
    "# EDA\n",
    "\n",
    "```{.python}\n",
    "train_data = train_data.dropna(axis='columns',thresh=25000)\n",
    "test_data = test_data.dropna(axis='columns',thresh=2300)\n",
    "submission_data = submission_data.dropna(axis='columns',thresh=640)\n",
    "```\n",
    "null 데이터가 많은 변수는 제거\n",
    "\n",
    "```{.python}\n",
    "fr_yn_mapping = {\n",
    "    'N' : 0.0, 'Y' : 1.0\n",
    "}\n",
    "```\n",
    "label을 0과 1로 수치화\n",
    "\n"
   ]
  },
  {
   "cell_type": "code",
   "execution_count": 1,
   "metadata": {},
   "outputs": [
    {
     "name": "stdout",
     "output_type": "stream",
     "text": [
      "23\n",
      "23\n",
      "24\n",
      "0\n",
      "0\n",
      "0\n"
     ]
    }
   ],
   "source": [
    "import pandas as pd\n",
    "import numpy as np\n",
    "import warnings\n",
    "import matplotlib.pyplot as plt\n",
    "import seaborn as sns\n",
    "%matplotlib inline\n",
    "warnings.filterwarnings('ignore')\n",
    "\n",
    "train_data = pd.read_csv('PJT002_train.csv')\n",
    "test_data = pd.read_csv('PJT002_validation.csv')\n",
    "submission_data = pd.read_csv('PJT002_test.csv')\n",
    "\n",
    "print(((train_data.isnull().sum() / len(train_data)) >0.7).sum())\n",
    "print(((test_data.isnull().sum() / len(test_data)) >0.7).sum())\n",
    "print(((submission_data.isnull().sum() / len(submission_data)) >0.7).sum())\n",
    "\n",
    "train_data = train_data.dropna(axis='columns',thresh=25000)\n",
    "test_data = test_data.dropna(axis='columns',thresh=2300)\n",
    "submission_data = submission_data.dropna(axis='columns',thresh=640)\n",
    "\n",
    "print(((train_data.isnull().sum() / len(train_data)) >0.7).sum())\n",
    "print(((test_data.isnull().sum() / len(test_data)) >0.7).sum())\n",
    "print(((submission_data.isnull().sum() / len(submission_data)) >0.7).sum())\n",
    "train_data =pd.concat([train_data, test_data], ignore_index=True)\n",
    "y_t = train_data['fr_yn']\n",
    "y_v = test_data['fr_yn']\n",
    "\n",
    "fr_yn_mapping = {\n",
    "    'N' : 0.0, 'Y' : 1.0\n",
    "}\n",
    "\n",
    "fr_yn_func = lambda x: fr_yn_mapping.get(x, x)\n",
    "\n",
    "y_t= y_t.map(fr_yn_func)\n",
    "y_v= y_v.map(fr_yn_func)\n"
   ]
  },
  {
   "cell_type": "markdown",
   "metadata": {},
   "source": [
    "명목형 변수와 화재발생여부의 관계를 살피기 위함\n",
    "\n",
    "이를 통해 명목형 변수를 4분위 수로 나타낼 수 있음(1, 2, 3, 4)"
   ]
  },
  {
   "cell_type": "code",
   "execution_count": 2,
   "metadata": {},
   "outputs": [
    {
     "data": {
      "text/html": [
       "<div>\n",
       "<style scoped>\n",
       "    .dataframe tbody tr th:only-of-type {\n",
       "        vertical-align: middle;\n",
       "    }\n",
       "\n",
       "    .dataframe tbody tr th {\n",
       "        vertical-align: top;\n",
       "    }\n",
       "\n",
       "    .dataframe thead th {\n",
       "        text-align: right;\n",
       "    }\n",
       "</style>\n",
       "<table border=\"1\" class=\"dataframe\">\n",
       "  <thead>\n",
       "    <tr style=\"text-align: right;\">\n",
       "      <th></th>\n",
       "      <th>fr_yn</th>\n",
       "      <th>rgnl_ar_nm</th>\n",
       "    </tr>\n",
       "  </thead>\n",
       "  <tbody>\n",
       "    <tr>\n",
       "      <td>0</td>\n",
       "      <td>0.000000</td>\n",
       "      <td>제1종전용주거지역</td>\n",
       "    </tr>\n",
       "    <tr>\n",
       "      <td>1</td>\n",
       "      <td>0.000000</td>\n",
       "      <td>관리지역</td>\n",
       "    </tr>\n",
       "    <tr>\n",
       "      <td>2</td>\n",
       "      <td>0.033333</td>\n",
       "      <td>제2종전용주거지역</td>\n",
       "    </tr>\n",
       "    <tr>\n",
       "      <td>3</td>\n",
       "      <td>0.035714</td>\n",
       "      <td>유통상업지역</td>\n",
       "    </tr>\n",
       "    <tr>\n",
       "      <td>4</td>\n",
       "      <td>0.090186</td>\n",
       "      <td>개발제한구역</td>\n",
       "    </tr>\n",
       "    <tr>\n",
       "      <td>5</td>\n",
       "      <td>0.101030</td>\n",
       "      <td>보전관리지역</td>\n",
       "    </tr>\n",
       "    <tr>\n",
       "      <td>6</td>\n",
       "      <td>0.104052</td>\n",
       "      <td>제1종일반주거지역</td>\n",
       "    </tr>\n",
       "    <tr>\n",
       "      <td>7</td>\n",
       "      <td>0.111469</td>\n",
       "      <td>생산관리지역</td>\n",
       "    </tr>\n",
       "    <tr>\n",
       "      <td>8</td>\n",
       "      <td>0.111582</td>\n",
       "      <td>자연환경보전지역</td>\n",
       "    </tr>\n",
       "    <tr>\n",
       "      <td>9</td>\n",
       "      <td>0.113816</td>\n",
       "      <td>계획관리지역</td>\n",
       "    </tr>\n",
       "    <tr>\n",
       "      <td>10</td>\n",
       "      <td>0.127389</td>\n",
       "      <td>보전녹지지역</td>\n",
       "    </tr>\n",
       "    <tr>\n",
       "      <td>11</td>\n",
       "      <td>0.133427</td>\n",
       "      <td>농림지역</td>\n",
       "    </tr>\n",
       "    <tr>\n",
       "      <td>12</td>\n",
       "      <td>0.147355</td>\n",
       "      <td>제2종일반주거지역</td>\n",
       "    </tr>\n",
       "    <tr>\n",
       "      <td>13</td>\n",
       "      <td>0.153508</td>\n",
       "      <td>자연녹지지역</td>\n",
       "    </tr>\n",
       "    <tr>\n",
       "      <td>14</td>\n",
       "      <td>0.178827</td>\n",
       "      <td>준주거지역</td>\n",
       "    </tr>\n",
       "    <tr>\n",
       "      <td>15</td>\n",
       "      <td>0.219457</td>\n",
       "      <td>생산녹지지역</td>\n",
       "    </tr>\n",
       "    <tr>\n",
       "      <td>16</td>\n",
       "      <td>0.245342</td>\n",
       "      <td>준공업지역</td>\n",
       "    </tr>\n",
       "    <tr>\n",
       "      <td>17</td>\n",
       "      <td>0.265607</td>\n",
       "      <td>일반상업지역</td>\n",
       "    </tr>\n",
       "    <tr>\n",
       "      <td>18</td>\n",
       "      <td>0.268657</td>\n",
       "      <td>근린상업지역</td>\n",
       "    </tr>\n",
       "    <tr>\n",
       "      <td>19</td>\n",
       "      <td>0.310058</td>\n",
       "      <td>일반공업지역</td>\n",
       "    </tr>\n",
       "    <tr>\n",
       "      <td>20</td>\n",
       "      <td>0.330612</td>\n",
       "      <td>제3종일반주거지역</td>\n",
       "    </tr>\n",
       "    <tr>\n",
       "      <td>21</td>\n",
       "      <td>0.471698</td>\n",
       "      <td>중심상업지역</td>\n",
       "    </tr>\n",
       "    <tr>\n",
       "      <td>22</td>\n",
       "      <td>0.500000</td>\n",
       "      <td>용도미지정</td>\n",
       "    </tr>\n",
       "  </tbody>\n",
       "</table>\n",
       "</div>"
      ],
      "text/plain": [
       "       fr_yn rgnl_ar_nm\n",
       "0   0.000000  제1종전용주거지역\n",
       "1   0.000000       관리지역\n",
       "2   0.033333  제2종전용주거지역\n",
       "3   0.035714     유통상업지역\n",
       "4   0.090186     개발제한구역\n",
       "5   0.101030     보전관리지역\n",
       "6   0.104052  제1종일반주거지역\n",
       "7   0.111469     생산관리지역\n",
       "8   0.111582   자연환경보전지역\n",
       "9   0.113816     계획관리지역\n",
       "10  0.127389     보전녹지지역\n",
       "11  0.133427       농림지역\n",
       "12  0.147355  제2종일반주거지역\n",
       "13  0.153508     자연녹지지역\n",
       "14  0.178827      준주거지역\n",
       "15  0.219457     생산녹지지역\n",
       "16  0.245342      준공업지역\n",
       "17  0.265607     일반상업지역\n",
       "18  0.268657     근린상업지역\n",
       "19  0.310058     일반공업지역\n",
       "20  0.330612  제3종일반주거지역\n",
       "21  0.471698     중심상업지역\n",
       "22  0.500000      용도미지정"
      ]
     },
     "execution_count": 2,
     "metadata": {},
     "output_type": "execute_result"
    }
   ],
   "source": [
    "train_data['fr_yn'] = train_data['fr_yn'].apply(lambda x: 1 if x=='Y' else 0 )\n",
    "\n",
    "column_name = 'rgnl_ar_nm'\n",
    "view = train_data[['fr_yn', column_name]].groupby([column_name], as_index=True).sum()/train_data[['fr_yn', column_name]].groupby([column_name], as_index=True).count()\n",
    "view = view.sort_values(by='fr_yn', axis=0)\n",
    "view[column_name] = view.index\n",
    "view = view.reset_index(drop=True)\n",
    "view"
   ]
  },
  {
   "cell_type": "markdown",
   "metadata": {},
   "source": [
    "실수형 데이터와 화재발생여부와의 관계를 살피기 위해 상관관계 plot을 그림"
   ]
  },
  {
   "cell_type": "code",
   "execution_count": 3,
   "metadata": {},
   "outputs": [
    {
     "data": {
      "text/plain": [
       "<matplotlib.axes._subplots.AxesSubplot at 0x26d01ac8cc0>"
      ]
     },
     "execution_count": 3,
     "metadata": {},
     "output_type": "execute_result"
    },
    {
     "data": {
      "image/png": "[encoded data removed]",
      "text/plain": [
       "<Figure size 1296x1296 with 2 Axes>"
      ]
     },
     "metadata": {
      "needs_background": "light"
     },
     "output_type": "display_data"
    }
   ],
   "source": [
    "plt.figure(figsize=(18,18))\n",
    "sns.heatmap(data = train_data[['bldng_ar',\n",
    " 'ttl_ar',\n",
    " 'lnd_ar',\n",
    " 'dt_of_athrztn',\n",
    " 'ttl_grnd_flr',\n",
    " 'ttl_dwn_flr',\n",
    " 'tmprtr',\n",
    " 'wnd_spd',\n",
    " 'wnd_drctn',\n",
    " 'hmdt','fr_yn']].corr(), annot=True,\n",
    "           fmt='.2f',linewidths=.5,cmap='Blues')"
   ]
  },
  {
   "cell_type": "markdown",
   "metadata": {},
   "source": [
    "수치형 데이터를 가변수로 변환시켰을 경우 더 높은 정확률을 갖는지 실험하기 위함"
   ]
  },
  {
   "cell_type": "code",
   "execution_count": 4,
   "metadata": {},
   "outputs": [
    {
     "data": {
      "text/html": [
       "<style  type=\"text/css\" >\n",
       "    #T_ac103088_1d6d_11ea_ac36_0a152af2a404row0_col0 {\n",
       "            background-color:  #ffff66;\n",
       "            color:  #000000;\n",
       "        }    #T_ac103088_1d6d_11ea_ac36_0a152af2a404row1_col0 {\n",
       "            background-color:  #c3e166;\n",
       "            color:  #000000;\n",
       "        }    #T_ac103088_1d6d_11ea_ac36_0a152af2a404row2_col0 {\n",
       "            background-color:  #abd566;\n",
       "            color:  #000000;\n",
       "        }    #T_ac103088_1d6d_11ea_ac36_0a152af2a404row3_col0 {\n",
       "            background-color:  #008066;\n",
       "            color:  #f1f1f1;\n",
       "        }</style><table id=\"T_ac103088_1d6d_11ea_ac36_0a152af2a404\" ><thead>    <tr>        <th class=\"blank level0\" ></th>        <th class=\"col_heading level0 col0\" >fr_yn</th>    </tr>    <tr>        <th class=\"index_name level0\" >dump</th>        <th class=\"blank\" ></th>    </tr></thead><tbody>\n",
       "                <tr>\n",
       "                        <th id=\"T_ac103088_1d6d_11ea_ac36_0a152af2a404level0_row0\" class=\"row_heading level0 row0\" >0</th>\n",
       "                        <td id=\"T_ac103088_1d6d_11ea_ac36_0a152af2a404row0_col0\" class=\"data row0 col0\" >0.0411473</td>\n",
       "            </tr>\n",
       "            <tr>\n",
       "                        <th id=\"T_ac103088_1d6d_11ea_ac36_0a152af2a404level0_row1\" class=\"row_heading level0 row1\" >1</th>\n",
       "                        <td id=\"T_ac103088_1d6d_11ea_ac36_0a152af2a404row1_col0\" class=\"data row1 col0\" >0.0980997</td>\n",
       "            </tr>\n",
       "            <tr>\n",
       "                        <th id=\"T_ac103088_1d6d_11ea_ac36_0a152af2a404level0_row2\" class=\"row_heading level0 row2\" >2</th>\n",
       "                        <td id=\"T_ac103088_1d6d_11ea_ac36_0a152af2a404row2_col0\" class=\"data row2 col0\" >0.120075</td>\n",
       "            </tr>\n",
       "            <tr>\n",
       "                        <th id=\"T_ac103088_1d6d_11ea_ac36_0a152af2a404level0_row3\" class=\"row_heading level0 row3\" >3</th>\n",
       "                        <td id=\"T_ac103088_1d6d_11ea_ac36_0a152af2a404row3_col0\" class=\"data row3 col0\" >0.281046</td>\n",
       "            </tr>\n",
       "    </tbody></table>"
      ],
      "text/plain": [
       "<pandas.io.formats.style.Styler at 0x26d1141f908>"
      ]
     },
     "execution_count": 4,
     "metadata": {},
     "output_type": "execute_result"
    }
   ],
   "source": [
    "\n",
    "name = 'ttl_ar'\n",
    "train_data[name] = train_data.groupby(['emd_nm','mlt_us_yn','jmk'],\n",
    "                                        sort=False)[name].apply(lambda x:x.fillna(x.mean()))\n",
    "train_data[name] = train_data[name].fillna(0)\n",
    "train_data['dump']=pd.qcut(train_data[name],4,duplicates='drop')\n",
    "column_create = []\n",
    "for i in range(len(train_data['dump'].unique())):\n",
    "    column_create.append(str(i))\n",
    "#print(column_create)\n",
    "#if name == 'fr_yn':\n",
    "#    continue\n",
    "#if len(column_create) < 2:\n",
    "#    train_data['dump']=pd.cut(train_data[name],[train_data[name].min(),train_data[name].mean(),train_data[name].max()], labels=['1','2'])\n",
    "#    train_data['dump'] = train_data['dump'].astype('object')\n",
    "#    train_data['dump']=  train_data['dump'].fillna('0')\n",
    "#    print(train_data['dump'].isnull().sum())\n",
    "train_data['dump']=pd.qcut(train_data[name],4,duplicates='drop', labels=column_create)\n",
    "train_data.groupby(['dump'])['fr_yn'].mean().to_frame().style.background_gradient(cmap='summer_r')\n"
   ]
  },
  {
   "cell_type": "code",
   "execution_count": 5,
   "metadata": {},
   "outputs": [],
   "source": [
    "train_data = train_data.drop(['dump'], axis='columns')"
   ]
  },
  {
   "cell_type": "markdown",
   "metadata": {},
   "source": [
    "실수형 데이터중에서 null 데이터가 많은 데이터를 제거하여(변수선택) 정확도를 더 높임"
   ]
  },
  {
   "cell_type": "code",
   "execution_count": 6,
   "metadata": {},
   "outputs": [],
   "source": [
    "test_list = [\n",
    "    'gas_engry_us_201401','ele_engry_us_201401','gas_engry_us_201402','ele_engry_us_201402','gas_engry_us_201403','ele_engry_us_201403',\n",
    "'gas_engry_us_201404','ele_engry_us_201404','gas_engry_us_201405','ele_engry_us_201405','gas_engry_us_201406','ele_engry_us_201406','gas_engry_us_201407','ele_engry_us_201407',\n",
    "'gas_engry_us_201408','ele_engry_us_201408','gas_engry_us_201409','ele_engry_us_201409','gas_engry_us_201410','ele_engry_us_201410','gas_engry_us_201411','ele_engry_us_201411',\n",
    "'gas_engry_us_201412','ele_engry_us_201412','gas_engry_us_201501','ele_engry_us_201501','gas_engry_us_201502','ele_engry_us_201502','gas_engry_us_201503','ele_engry_us_201503',\n",
    "'gas_engry_us_201504','ele_engry_us_201504','gas_engry_us_201505','ele_engry_us_201505','gas_engry_us_201506','ele_engry_us_201506','gas_engry_us_201507','ele_engry_us_201507',\n",
    "'gas_engry_us_201508','ele_engry_us_201508','gas_engry_us_201509','ele_engry_us_201509','gas_engry_us_201510','ele_engry_us_201510','gas_engry_us_201511','ele_engry_us_201511',\n",
    "'gas_engry_us_201512','ele_engry_us_201512','gas_engry_us_201601','ele_engry_us_201601','gas_engry_us_201602','ele_engry_us_201602','gas_engry_us_201603','ele_engry_us_201603',\n",
    "'gas_engry_us_201604','ele_engry_us_201604','gas_engry_us_201605','ele_engry_us_201605','gas_engry_us_201606','ele_engry_us_201606','gas_engry_us_201607','ele_engry_us_201607',\n",
    "'gas_engry_us_201608','ele_engry_us_201608','gas_engry_us_201609','ele_engry_us_201609','gas_engry_us_201610','ele_engry_us_201610','gas_engry_us_201611','ele_engry_us_201611',\n",
    "'gas_engry_us_201612','ele_engry_us_201612','gas_engry_us_201701','ele_engry_us_201701','gas_engry_us_201702','ele_engry_us_201702','gas_engry_us_201703','ele_engry_us_201703',\n",
    "'gas_engry_us_201704','ele_engry_us_201704','gas_engry_us_201705','ele_engry_us_201705','gas_engry_us_201706','ele_engry_us_201706','gas_engry_us_201707','ele_engry_us_201707',\n",
    "'gas_engry_us_201708','ele_engry_us_201708','gas_engry_us_201709','ele_engry_us_201709','gas_engry_us_201710','ele_engry_us_201710','gas_engry_us_201711','ele_engry_us_201711',\n",
    "'gas_engry_us_201712','ele_engry_us_201712','gas_engry_us_201801','ele_engry_us_201801','gas_engry_us_201802','ele_engry_us_201802','gas_engry_us_201803','ele_engry_us_201803',\n",
    "'gas_engry_us_201804','ele_engry_us_201804','gas_engry_us_201805','ele_engry_us_201805','gas_engry_us_201806','ele_engry_us_201806','gas_engry_us_201807','ele_engry_us_201807',\n",
    "'gas_engry_us_201808','ele_engry_us_201808','gas_engry_us_201809','ele_engry_us_201809','gas_engry_us_201810','ele_engry_us_201810','gas_engry_us_201811','ele_engry_us_201811',\n",
    "'gas_engry_us_201812','ele_engry_us_201812'\n",
    "]\n",
    "\n",
    "#train_data = train_data.drop(test_list, axis='columns')\n",
    "train_data = train_data.drop(test_list, axis='columns')\n",
    "submission_data = submission_data.drop(test_list, axis='columns')"
   ]
  },
  {
   "cell_type": "markdown",
   "metadata": {},
   "source": [
    "# Feature Engineering\n",
    "\n",
    "실수형과 정수형 데이터에 있는 null 값을 ['emd_nm','mlt_us_yn','jmk']를 기준으로 채움"
   ]
  },
  {
   "cell_type": "code",
   "execution_count": 7,
   "metadata": {},
   "outputs": [],
   "source": [
    "\n",
    "train_data.dt_of_athrztn =pd.to_numeric(train_data.dt_of_athrztn, errors='coerce') \n",
    "\n",
    "column_float = []\n",
    "for i in train_data.columns:\n",
    "    if train_data[i].dtypes == 'float64':\n",
    "        column_float.append(i)\n",
    "#print(column_float)\n",
    "for name in column_float:        \n",
    "    train_data[name] = train_data.groupby(['emd_nm','mlt_us_yn','jmk'],\n",
    "                                            sort=False)[name].apply(lambda x:x.fillna(x.median()))\n",
    "    train_data[name] = train_data[name].fillna(0)\n",
    "    \n",
    "column_float = []\n",
    "for i in submission_data.columns:\n",
    "    if submission_data[i].dtypes == 'float64':\n",
    "        column_float.append(i)\n",
    "#print(column_float)\n",
    "for name in column_float:        \n",
    "    submission_data[name] = submission_data.groupby(['emd_nm','mlt_us_yn','jmk'],\n",
    "                                            sort=False)[name].apply(lambda x:x.fillna(x.median()))\n",
    "    submission_data[name] = submission_data[name].fillna(0)\n",
    "    \n",
    "\n",
    "column_int = []\n",
    "for i in train_data.columns:\n",
    "    if train_data[i].dtypes == 'int64':\n",
    "        column_int.append(i)\n",
    "for name in column_int:        \n",
    "    train_data[name] = train_data.groupby(['emd_nm','mlt_us_yn','jmk'],\n",
    "                                            sort=False)[name].apply(lambda x:x.fillna(x.median()))\n",
    "    train_data[name] = train_data[name].fillna(0)\n",
    "    \n",
    "column_int = []\n",
    "for i in submission_data.columns:\n",
    "    if submission_data[i].dtypes == 'int64':\n",
    "        column_int.append(i)\n",
    "for name in column_int:        \n",
    "    submission_data[name] = submission_data.groupby(['emd_nm','mlt_us_yn','jmk'],\n",
    "                                            sort=False)[name].apply(lambda x:x.fillna(x.median()))\n",
    "    submission_data[name] = submission_data[name].fillna(0)\n"
   ]
  },
  {
   "cell_type": "markdown",
   "metadata": {},
   "source": [
    "명목형 변수를 4분위 수로 나눔"
   ]
  },
  {
   "cell_type": "code",
   "execution_count": 8,
   "metadata": {},
   "outputs": [],
   "source": [
    "bldng_us_mapping = {\n",
    "    \"공공용시설\":'1',\"파출소\":'1', \"시장\":'1', \"판매및영업시설\":'1', \"단독주택\":'1', \"발전시설\":'1',\"창고시설\":'1',\n",
    "    \"근린생활시설\":'2',\"노유자시설\":'2',\"동.식물 관련시설\":'2', \"위험물저장및처리시설\":'2',\"종교시설\":'2',\"제1종근린생활시설\":'2',\"제2종근린생활시설\":'2',\n",
    "    \"교정및군사시설\":'3',\"교육연구및복지시설\":'3',\"묘지관련시설\":'3',\"숙박시설\":'3',\"문화및집회시설\":'3',\"방송통신시설\":'3',\n",
    "    \"공장\":'4',\"위락시설\":'4',\"교육연구시설\":'4',\"운동시설\":'4',\"운수시설\":'4',\"업무시설\":'4',\"분뇨.쓰레기처리시설\":'4',\n",
    "    \"공동주택\":'5',\"자동차관련시설\":'5',\"수련시설\":'5',\"의료시설\":'5',\"장례식장\":'5',\"판매시설\":'5',\"관광휴게시설\":'5'\n",
    "}\n",
    "\n",
    "bldng_us_func = lambda x: bldng_us_mapping.get(x, x)\n",
    "\n",
    "\n",
    "train_data['bldng_us'] = train_data['bldng_us'].map(bldng_us_func)\n",
    "test_data['bldng_us'] = test_data['bldng_us'].map(bldng_us_func)\n",
    "submission_data['bldng_us'] = submission_data['bldng_us'].map(bldng_us_func)\n",
    "\n",
    "bldng_archtctr_mapping = {\n",
    "    \"통나무구조\":'1',\"석구조\":'1',\"벽돌구조\":'1',\"일반목구조\":'1',\"조적구조\":'1',\"목구조\":'1',\n",
    "    \"기타조적구조\":'2',\"블록구조\":'2',\"일반목구조\":'2',\"통나무구조\":'2',\n",
    "    \"강파이프구조\":'3',\"기타구조\":'3',\"경량철골구조\":'3',\n",
    "    \"기타강구조\":'4',\"철근콘크리트구조\":'4',\"일반철골구조\":'4',\n",
    "    \"프리케스트콘크리트구조\":'5',\"철골콘크리트구조\":'5',\"기타콘크리트구조\":'5',\"철골철근콘크리트구조\":'5'\n",
    "}\n",
    "\n",
    "bldng_archtctr_func = lambda x: bldng_archtctr_mapping.get(x, x)\n",
    "\n",
    "train_data['bldng_archtctr'] = train_data['bldng_archtctr'].map(bldng_archtctr_func)\n",
    "test_data['bldng_archtctr'] = test_data['bldng_archtctr'].map(bldng_archtctr_func)\n",
    "submission_data['bldng_archtctr'] = submission_data['bldng_archtctr'].map(bldng_archtctr_func)\n",
    "\n",
    "bldng_us_clssfctn_mapping = {\n",
    "    \"주거용\":'1',\"기타\":'1',\n",
    "    \"농수산용\":'2',\n",
    "    \"상업용\":'3',\n",
    "    \"문교사회용\":'4',\n",
    "    \"공공용\":'5',\"공업용\":'5'\n",
    "}\n",
    "\n",
    "bldng_us_clssfctn_func = lambda x: bldng_us_clssfctn_mapping.get(x, x)\n",
    "\n",
    "train_data['bldng_us_clssfctn'] = train_data['bldng_us_clssfctn'].map(bldng_us_clssfctn_func)\n",
    "test_data['bldng_us_clssfctn'] = test_data['bldng_us_clssfctn'].map(bldng_us_clssfctn_func)\n",
    "submission_data['bldng_us_clssfctn'] = submission_data['bldng_us_clssfctn'].map(bldng_us_clssfctn_func)\n",
    "\n",
    "jmk_mapping = {\n",
    "    \"수\":'1',\"구\":'1',\"천\":'1',\"과\":'1',\"묘\":'1',\"도\":'1',\n",
    "    \"임\":'2',\"전\":'2',\"답\":'2',\"제\":'2',\"유\":'2',\n",
    "    \"대\":'3',\"목\":'3',\"창\":'3',\"종\":'3',\"철\":'3',\n",
    "    \"원\":'4',\"잡\":'4',\"주\":'4',\"공\":'4',\"양\":'4',\n",
    "    \"학\":'5',\"사\":'5',\"장\":'5',\"체\":'5',\"차\":'5',\n",
    "}\n",
    "\n",
    "jmk_func = lambda x:jmk_mapping.get(x, x)\n",
    "\n",
    "train_data['jmk'] = train_data['jmk'].map(jmk_func)\n",
    "test_data['jmk'] = test_data['jmk'].map(jmk_func)\n",
    "submission_data['jmk'] = submission_data['jmk'].map(jmk_func)\n",
    "\n",
    "rgnl_ar_nm_mapping = {\n",
    "    \"제1종전용주거지역\":'1',\"관리지역\":'1',\"제2종전용주거지역\":'1',\"유통상업지역\":'1',\"개발제한구역\":'1',\n",
    "    \"보전관리지역\":'2',\"제1종일반주거지역\":'2',\"생산관리지역\":'2',\"자연환경보전지역\":'2',\n",
    "    \"계획관리지역\":'3',\"보전녹지지역\":'3',\"농림지역\":'3',\"제2종일반주거지역\":'3',\"자연녹지지역\":'3',\n",
    "    \"준주거지역\":'4',\"생산녹지지역\":'4',\"준공업지역\":'4',\"일반상업지역\":'4',\n",
    "    \"근린상업지역\":'5', \"일반공업지역\":'5',\"제3종일반주거지역\":'5',\"중심상업지역\":'5',\"용도미지정\":'5'\n",
    "}\n",
    "\n",
    "rgnl_ar_nm_func = lambda x:rgnl_ar_nm_mapping.get(x, x)\n",
    "\n",
    "train_data['rgnl_ar_nm'] = train_data['rgnl_ar_nm'].map(rgnl_ar_nm_func)\n",
    "test_data['rgnl_ar_nm'] = test_data['rgnl_ar_nm'].map(rgnl_ar_nm_func)\n",
    "submission_data['rgnl_ar_nm'] = submission_data['rgnl_ar_nm'].map(rgnl_ar_nm_func)\n",
    "\n",
    "rgnl_ar_nm2_mapping = {\n",
    "    \"개발제한구역\":'1', \"관리지역\":'1',\"농림지역\":'1',\"생산녹지지역\":'1', \"제3종일반주거지역\":'1',\n",
    "    \"계획관리지역\":'1',\n",
    "    \"지정되지않음\":'2',\"일반상업지역\":'2',\"생산관리지역\":'2', \"일반공업지역\":'2', \"보전관리지역\":'2',\n",
    "    \"준공업지역\":'3', \"제1종일반주거지역\":'3', \"제2종일반주거지역\":'3', \"자연녹지지역\":'3', \"준주거지역\":'3'\n",
    "}\n",
    "\n",
    "rgnl_ar_nm2_func = lambda x:rgnl_ar_nm2_mapping.get(x, x)\n",
    "\n",
    "train_data['rgnl_ar_nm2'] = train_data['rgnl_ar_nm2'].map(rgnl_ar_nm2_func)\n",
    "test_data['rgnl_ar_nm2'] = test_data['rgnl_ar_nm2'].map(rgnl_ar_nm2_func)\n",
    "submission_data['rgnl_ar_nm2'] = submission_data['rgnl_ar_nm2'].map(rgnl_ar_nm2_func)\n",
    "\n",
    "lnd_us_sttn_nm_mapping = {\n",
    "    \"경마장\":'1', \"콘도미니엄\":'1', \"유원지\":'1', \"특수기타\":'1', \"스키장\":'1', \"발전소\":'1', \"도로등\":'1',\"조림\":'1',\"하천등\":'1',\n",
    "    \"자연림\":'2', \"전\":'2', \"목장용지\":'2', \"토지임야\":'2', \"답\":'2', \"과수원\":'2', \"단독\":'2',\"주거나지\":'2',\"임야기타\":'2',\n",
    "    \"전기타\":'3', \"답기타\":'3', \"공원등\":'3', \"주거기타\":'3', \"주상나지\":'3', \"골프장 회원제\":'3',\"주상기타\":'3',\"다세대\":'3',\"연립\":'3',\n",
    "    \"상주상용업기타\":'4', \"골프장 대중제\":'4', \"상업기타\":'4', \"공업기타\":'4', \"공원묘지\":'4', \"업무용\":'4',\"상업나지\":'4',\"공업나지\":'4',\"상업용\":'4',\"주상용\":'4',\n",
    "    \"기타\":'5', \"공업용\":'5', \"운동장등\":'5', \"위험시설\":'5', \"유해.혐오시설\":'5',\"주차장등\":'5', \"아파트\":'5', \"여객자동차터미널\":'5', \"고속도로휴게소\":'5'\n",
    "}\n",
    "\n",
    "lnd_us_sttn_nm_func = lambda x:lnd_us_sttn_nm_mapping.get(x, x)\n",
    "\n",
    "train_data['lnd_us_sttn_nm'] = train_data['lnd_us_sttn_nm'].map(lnd_us_sttn_nm_func)\n",
    "test_data['lnd_us_sttn_nm'] = test_data['lnd_us_sttn_nm'].map(lnd_us_sttn_nm_func)\n",
    "submission_data['lnd_us_sttn_nm'] = submission_data['lnd_us_sttn_nm'].map(lnd_us_sttn_nm_func)\n",
    "\n",
    "rd_sd_nm_mapping = {\n",
    "    \"세로한면(불)\":'1', \"맹지\":'1', \"세로각지(불)\":'1',\n",
    "    \"세로각지(가)\":'2', \"세로한면(가)\":'2',\n",
    "    \"소로각지\":'3', \"지정되지않음\":'3', \"소로한면\":'3',\n",
    "    \"광대로한면\":'4', \"중로한면\":'4',\n",
    "    \"광대세각\":'5', \"중로각지\":'5', \"광대소각\":'5'\n",
    "}\n",
    "\n",
    "rd_sd_nm_func = lambda x:rd_sd_nm_mapping.get(x, x)\n",
    "\n",
    "train_data['rd_sd_nm'] = train_data['rd_sd_nm'].map(rd_sd_nm_func)\n",
    "test_data['rd_sd_nm'] = test_data['rd_sd_nm'].map(rd_sd_nm_func)\n",
    "submission_data['rd_sd_nm'] = submission_data['rd_sd_nm'].map(rd_sd_nm_func)\n",
    "\n",
    "emd_nm_mapping = {\n",
    "    \"경상남도 김해시 어방동\":'1',\"경상남도 김해시 칠산서부동\":'1', \"경상남도 김해시 대동면\":'1',\n",
    "    \"경상남도 김해시 동상동\":'1',\n",
    "    \"경상남도 김해시 회현동\":'2', \"경상남도 김해시 한림면\":'2', \"경상남도 김해시 진영읍\":'2',\n",
    "    \"경상남도 김해시 불암동\":'2',\n",
    "    \"경상남도 김해시 진례면\":'3', \"경상남도 김해시 삼안동\":'3',\"경상남도 김해시 생림면\":'3',\n",
    "    \"경상남도 김해시 상동면\":'3',\n",
    "    \"경상남도 김해시 부원동\":'4', \"경상남도 김해시 활천동\":'4', \"경상남도 김해시 북부동\":'4',\n",
    "    \"경상남도 김해시 장유3동\":'4',\n",
    "    \"경상남도 김해시 주촌면\":'5', \"경상남도 김해시 내외동\":'5', \"경상남도 김해시 장유1동\":'5',\n",
    "    \"경상남도 김해시 장유2동\":'5'\n",
    "}\n",
    "\n",
    "emd_nm_func = lambda x:emd_nm_mapping.get(x, x)\n",
    "\n",
    "train_data['emd_nm'] = train_data['emd_nm'].map(emd_nm_func)\n",
    "test_data['emd_nm'] = test_data['emd_nm'].map(emd_nm_func)\n",
    "submission_data['emd_nm'] = submission_data['emd_nm'].map(emd_nm_func)"
   ]
  },
  {
   "cell_type": "markdown",
   "metadata": {},
   "source": [
    "실수형 데이터에 log를 취하여 스케일링을 진행함"
   ]
  },
  {
   "cell_type": "code",
   "execution_count": 9,
   "metadata": {},
   "outputs": [],
   "source": [
    "\n",
    "for i in train_data.columns:\n",
    "    if train_data[i].dtypes == 'float64':  \n",
    "        train_data[i] = train_data[i].map(lambda i: np.log(i) if i > 0 else 0)\n",
    "for i in submission_data.columns:\n",
    "    if submission_data[i].dtypes == 'float64':  \n",
    "        submission_data[i] = submission_data[i].map(lambda i: np.log(i) if i > 0 else 0)\n"
   ]
  },
  {
   "cell_type": "markdown",
   "metadata": {},
   "source": [
    "수치형 데이터를 4분위수로 나누어서 정확도를 높이려 했으나, 더 낮아지는 효과가 있으므로 주석처리"
   ]
  },
  {
   "cell_type": "code",
   "execution_count": 10,
   "metadata": {},
   "outputs": [
    {
     "data": {
      "text/plain": [
       "\"\\nname_list = ['ttl_dwn_flr',  'ttl_ar']#,'bldng_ar', 'lnd_ar', 'tmprtr', 'wnd_spd', 'wnd_drctn', 'hmdt', 'hm_cnt', 'bldng_ar_prc']\\nfor name in name_list:\\n    try:\\n        #train_data[name] = pd.qcut(train_data[name], 4, labels=['1','2','3','4'])\\n        test_data[name] = pd.qcut(test_data[name], 4, labels=['1','2','3','4'])\\n        submission_data[name] = pd.qcut(submission_data[name], 4, labels=['1','2','3','4'])\\n    except ValueError:\\n        #train_data[name]=pd.cut(train_data[name],[train_data[name].min(),train_data[name].mean(),train_data[name].max()], labels=['1','2'])\\n        #train_data[name] = train_data[name].astype('object')\\n        #train_data[name]=  train_data[name].fillna('0')\\n        \\n        test_data[name]=pd.cut(test_data[name],[test_data[name].min(),test_data[name].mean(),test_data[name].max()], labels=['1','2'])\\n        test_data[name] = test_data[name].astype('object')\\n        test_data[name]=  test_data[name].fillna('0')\\n\\n        submission_data[name]=pd.cut(submission_data[name],[submission_data[name].min(),submission_data[name].mean(),submission_data[name].max()], labels=['1','2'])\\n        submission_data[name] = submission_data[name].astype('object')\\n        submission_data[name]=  submission_data[name].fillna('0')\\n        continue\\n\""
      ]
     },
     "execution_count": 10,
     "metadata": {},
     "output_type": "execute_result"
    }
   ],
   "source": [
    "'''\n",
    "name_list = ['ttl_dwn_flr',  'ttl_ar']#,'bldng_ar', 'lnd_ar', 'tmprtr', 'wnd_spd', 'wnd_drctn', 'hmdt', 'hm_cnt', 'bldng_ar_prc']\n",
    "for name in name_list:\n",
    "    try:\n",
    "        #train_data[name] = pd.qcut(train_data[name], 4, labels=['1','2','3','4'])\n",
    "        test_data[name] = pd.qcut(test_data[name], 4, labels=['1','2','3','4'])\n",
    "        submission_data[name] = pd.qcut(submission_data[name], 4, labels=['1','2','3','4'])\n",
    "    except ValueError:\n",
    "        #train_data[name]=pd.cut(train_data[name],[train_data[name].min(),train_data[name].mean(),train_data[name].max()], labels=['1','2'])\n",
    "        #train_data[name] = train_data[name].astype('object')\n",
    "        #train_data[name]=  train_data[name].fillna('0')\n",
    "        \n",
    "        test_data[name]=pd.cut(test_data[name],[test_data[name].min(),test_data[name].mean(),test_data[name].max()], labels=['1','2'])\n",
    "        test_data[name] = test_data[name].astype('object')\n",
    "        test_data[name]=  test_data[name].fillna('0')\n",
    "\n",
    "        submission_data[name]=pd.cut(submission_data[name],[submission_data[name].min(),submission_data[name].mean(),submission_data[name].max()], labels=['1','2'])\n",
    "        submission_data[name] = submission_data[name].astype('object')\n",
    "        submission_data[name]=  submission_data[name].fillna('0')\n",
    "        continue\n",
    "'''"
   ]
  },
  {
   "cell_type": "code",
   "execution_count": 11,
   "metadata": {},
   "outputs": [
    {
     "data": {
      "text/plain": [
       "\"\\nfor name in int_name:\\n    try:\\n        test_data[name] = pd.qcut(test_data[name], 4, labels=['1','2','3','4'])\\n        submission_data[name] = pd.qcut(submission_data[name], 4, labels=['1','2','3','4'])\\n    except ValueError:\\n        test_data[name]=pd.cut(test_data[name],[test_data[name].min(),test_data[name].mean(),test_data[name].max()], labels=['1','2'])\\n        test_data[name] = test_data[name].astype('object')\\n        test_data[name]=  test_data[name].fillna('0')\\n\\n        submission_data[name]=pd.cut(submission_data[name],[submission_data[name].min(),submission_data[name].mean(),submission_data[name].max()], labels=['1','2'])\\n        submission_data[name] = submission_data[name].astype('object')\\n        submission_data[name]=  submission_data[name].fillna('0')\\n\""
      ]
     },
     "execution_count": 11,
     "metadata": {},
     "output_type": "execute_result"
    }
   ],
   "source": [
    "'''\n",
    "int_name = ['fr_sttn_dstnc', 'fr_wthr_fclt_dstnc', 'bldng_cnt','tbc_rtl_str_dstnc',\n",
    "               'cctv_dstnc', 'no_tbc_zn_dstnc','sft_emrgnc_bll_dstnc','ahsm_dstnc',\n",
    "               'cctv_in_100m', 'fr_wthr_fclt_in_100m', 'bldng_cnt_in_50m']\n",
    "'''\n",
    "'''\n",
    "for name in int_name:\n",
    "    try:\n",
    "        test_data[name] = pd.qcut(test_data[name], 4, labels=['1','2','3','4'])\n",
    "        submission_data[name] = pd.qcut(submission_data[name], 4, labels=['1','2','3','4'])\n",
    "    except ValueError:\n",
    "        test_data[name]=pd.cut(test_data[name],[test_data[name].min(),test_data[name].mean(),test_data[name].max()], labels=['1','2'])\n",
    "        test_data[name] = test_data[name].astype('object')\n",
    "        test_data[name]=  test_data[name].fillna('0')\n",
    "\n",
    "        submission_data[name]=pd.cut(submission_data[name],[submission_data[name].min(),submission_data[name].mean(),submission_data[name].max()], labels=['1','2'])\n",
    "        submission_data[name] = submission_data[name].astype('object')\n",
    "        submission_data[name]=  submission_data[name].fillna('0')\n",
    "'''\n"
   ]
  },
  {
   "cell_type": "markdown",
   "metadata": {},
   "source": [
    "object 형식의 날짜 데이터를 시간과 계절로 나눔\n",
    "\n",
    "실제로 가을과 겨울에 더 높은 확률로 화재가 발생하고\n",
    "\n",
    "낮 시간과 저녁 시간에 화재가 더 많이 난다는 통계자료를 바탕으로 진행함"
   ]
  },
  {
   "cell_type": "code",
   "execution_count": 12,
   "metadata": {},
   "outputs": [],
   "source": [
    "train_data['season'] = train_data['dt_of_fr']\n",
    "train_data['season'] = train_data['season'].apply(lambda x: int((int(x[5:7])%12 + 3)/3))\n",
    "train_data['season'] = train_data['season'].astype('object')\n",
    "\n",
    "train_data['time'] = train_data['dt_of_fr']\n",
    "train_data['time'] = train_data['time'].apply(lambda x: int(int(x[11:13])/6))\n",
    "train_data['time'] = train_data['time'].astype('object')\n",
    "\n",
    "test_data['season'] = test_data['dt_of_fr']\n",
    "test_data['season'] = test_data['season'].apply(lambda x: int((int(x[5:7])%12 + 3)/3))\n",
    "test_data['season'] = test_data['season'].astype('object')\n",
    "\n",
    "test_data['time'] = test_data['dt_of_fr']\n",
    "test_data['time'] = test_data['time'].apply(lambda x: int(int(x[11:13])/6))\n",
    "test_data['time'] = test_data['time'].astype('object')\n",
    "\n",
    "submission_data['season'] = submission_data['dt_of_fr']\n",
    "submission_data['season'] = submission_data['season'].apply(lambda x: int((int(x[5:7])%12 + 3)/3))\n",
    "submission_data['season'] = submission_data['season'].astype('object')\n",
    "\n",
    "submission_data['time'] = submission_data['dt_of_fr']\n",
    "submission_data['time'] = submission_data['time'].apply(lambda x: int(int(x[11:13])/6))\n",
    "submission_data['time'] = submission_data['time'].astype('object')"
   ]
  },
  {
   "cell_type": "code",
   "execution_count": 13,
   "metadata": {},
   "outputs": [],
   "source": [
    "#'tmprtr','wnd_spd', 'fr_wthr_fclt_in_100m', 'cctv_dstnc','bldng_ar_prc','tbc_rtl_str_dstnc','ahsm_dstnc','cctv_in_100m','hm_cnt'"
   ]
  },
  {
   "cell_type": "markdown",
   "metadata": {},
   "source": [
    "필요하지 않은 변수를 삭제함\n",
    "\n",
    "rgnl_ar_nm2 같은 경우 포함시키면 오히려 정확도가 낮아져서 삭제함"
   ]
  },
  {
   "cell_type": "code",
   "execution_count": 14,
   "metadata": {
    "scrolled": true
   },
   "outputs": [],
   "source": [
    "X_train = train_data.drop(['dt_of_fr','fr_yn','id', 'rgnl_ar_nm2'], axis='columns')\n",
    "#X_validation = test_data.drop(['dt_of_fr','fr_yn','id', 'rgnl_ar_nm2'], axis='columns')\n",
    "x_submission = submission_data[X_train.columns]\n",
    "\n",
    "X_train = pd.get_dummies(X_train, dummy_na=True)\n",
    "#X_validation = pd.get_dummies(X_validation, dummy_na=True)\n",
    "x_submission = pd.get_dummies(x_submission, dummy_na=True)\n",
    "X_train = X_train[x_submission.columns]\n",
    "#X_validation = X_validation[x_submission.columns]\n",
    "X_columns = X_train.columns"
   ]
  },
  {
   "cell_type": "code",
   "execution_count": 15,
   "metadata": {
    "scrolled": true
   },
   "outputs": [
    {
     "name": "stdout",
     "output_type": "stream",
     "text": [
      "85\n",
      "85\n"
     ]
    }
   ],
   "source": [
    "print(X_train.shape[1])\n",
    "#print(X_validation.shape[1])\n",
    "print(x_submission.shape[1])"
   ]
  },
  {
   "cell_type": "markdown",
   "metadata": {},
   "source": [
    "RobustScaler로 이상치를 제거하고\n",
    "\n",
    "Imputer로 빠진 데이터를 채우고\n",
    "\n",
    "StandardScaler로 정규화 시킴"
   ]
  },
  {
   "cell_type": "code",
   "execution_count": 16,
   "metadata": {},
   "outputs": [
    {
     "name": "stderr",
     "output_type": "stream",
     "text": [
      "C:\\Anaconda\\lib\\site-packages\\sklearn\\utils\\deprecation.py:66: DeprecationWarning: Class Imputer is deprecated; Imputer was deprecated in version 0.20 and will be removed in 0.22. Import impute.SimpleImputer from sklearn instead.\n",
      "  warnings.warn(msg, category=DeprecationWarning)\n"
     ]
    }
   ],
   "source": [
    "from sklearn.preprocessing import RobustScaler\n",
    "X_train = RobustScaler().fit_transform(X_train)\n",
    "#X_validation = RobustScaler().fit_transform(X_validation)\n",
    "x_submission = RobustScaler().fit_transform(x_submission)\n",
    "\n",
    "from sklearn.preprocessing import Imputer\n",
    "imr = Imputer(missing_values='NaN', strategy='median',axis=0)\n",
    "X_train =imr.fit_transform(X_train)\n",
    "#X_validation =imr.fit_transform(X_validation)\n",
    "x_submission =imr.fit_transform(x_submission)\n",
    "\n",
    "from xgboost import XGBClassifier\n",
    "from sklearn.preprocessing import StandardScaler\n",
    "from sklearn.model_selection import train_test_split\n",
    "from sklearn.metrics import *\n",
    "\n",
    "X_train = StandardScaler().fit_transform(X_train)\n",
    "#X_validation = StandardScaler().fit_transform(X_validation)\n",
    "x_submission = StandardScaler().fit_transform(x_submission)"
   ]
  },
  {
   "cell_type": "markdown",
   "metadata": {},
   "source": [
    "# Modeling\n",
    "\n",
    "RandomizedSearchCV로 최적의 모델 파라미터를 찾음"
   ]
  },
  {
   "cell_type": "code",
   "execution_count": 17,
   "metadata": {
    "scrolled": true
   },
   "outputs": [
    {
     "data": {
      "text/plain": [
       "'\\nfrom sklearn.metrics import mean_squared_error\\nfrom sklearn.metrics.scorer import make_scorer\\n\\ndef custom_loss(y_true, y_pred):\\n    most_big = 0\\n    idx = 0\\n    for i in np.arange(0.01, 0.7, 0.001):\\n        pred = pd.Series(y_pred).apply(lambda x: 1 if x >= i else 0)\\n        loss = f1_score(y_true,pred, pos_label=1.0)\\n        if most_big < loss:\\n            most_big = loss\\n            idx = i\\n    y_pred = pd.Series(y_pred).apply(lambda x: 1 if x >= idx else 0)\\n    return f1_score(y_true,y_pred, pos_label=1.0)\\ndef rmsew_loss(y_true, y_pred):\\n    value = mean_squared_error(y_true,y_pred,sample_weight = y_true)\\n    if value < 0 :\\n        value = -value\\n    return value\\nscorer = make_scorer(custom_loss, greater_is_better=True)\\n\\n################### test\\nfrom sklearn.model_selection import RandomizedSearchCV, KFold\\nimport scipy as sp\\nimport scipy.stats as stats\\nfrom xgboost import XGBRegressor\\nkfold = KFold(n_splits=10, shuffle=True, random_state=0)\\nclf_xgb = XGBRegressor( n_jobs=4)\\n               \\nparam_dist = {\\'n_estimators\\': stats.randint(150, 1500),\\n              \\'objective\\':[\\'reg:linear\\',\\'reg:tweedie\\',\\'reg:logistic\\'],\\n              \\'learning_rate\\': stats.uniform(0.001, 0.6),\\n              \\'max_depth\\': [3, 4, 5, 6, 7, 8, 9,10,11,12,13],\\n              \\'gamma\\': stats.uniform(0.01, 2.0),\\n              \\'reg_lambda\\': stats.uniform(0.1, 50),\\n              \\'reg_alpha\\': stats.uniform(0.1, 50),\\n              \\'subsample\\': [0.5,0.6,0.7,0.8,0.9],\\n              \\'colsample_bytree\\': [0.5,0.6,0.7,0.8,0.9],\\n              \\'min_child_weight\\': stats.randint(1, 12)\\n             }\\nclf = RandomizedSearchCV(clf_xgb, param_distributions = param_dist, n_iter = 50, scoring = scorer, cv=kfold, error_score = 0, verbose = 5, n_jobs = 4, random_state=42)\\n\\nclf.fit(X_validation, y_v)\\n\\nbest_score = clf.best_score_\\nbest_params = clf.best_params_\\nbest_estimator_ = clf.best_estimator_\\nprint(\"Best score: {}\".format(best_score))\\nprint(\"Best params: {}\".format(best_params))\\nprint(\"Best estimator_: {}\".format(best_estimator_))\\n################### test\\n\\npred = clf.predict(X_validation)\\nmost_big = 0\\nidx = 0\\nfor i in np.arange(0.1, 0.4, 0.01):\\n    pred_ = pd.Series(pred).apply(lambda x: 1 if x >= i else 0)\\n    loss = f1_score(y_v,pred_, pos_label=1.0)\\n    if most_big < loss:\\n        most_big = loss\\n        idx = i\\nprint(\"condition : {0}, f1: {1}\".format(idx, most_big)) \\npred = clf.predict(X_validation)\\npred = pd.Series(pred).apply(lambda x: 1 if x >= idx else 0)\\nprint(\\'accuracy\\', accuracy_score(y_v,pred) )\\nprint(\\'precision\\', precision_score(y_v,pred, pos_label=1.0) )\\nprint(\\'recall\\', recall_score(y_v,pred, pos_label=1.0) )\\nprint(\\'f1\\', f1_score(y_v,pred, pos_label=1.0) )\\n'"
      ]
     },
     "execution_count": 17,
     "metadata": {},
     "output_type": "execute_result"
    }
   ],
   "source": [
    "'''\n",
    "from sklearn.metrics import mean_squared_error\n",
    "from sklearn.metrics.scorer import make_scorer\n",
    "\n",
    "def custom_loss(y_true, y_pred):\n",
    "    most_big = 0\n",
    "    idx = 0\n",
    "    for i in np.arange(0.01, 0.7, 0.001):\n",
    "        pred = pd.Series(y_pred).apply(lambda x: 1 if x >= i else 0)\n",
    "        loss = f1_score(y_true,pred, pos_label=1.0)\n",
    "        if most_big < loss:\n",
    "            most_big = loss\n",
    "            idx = i\n",
    "    y_pred = pd.Series(y_pred).apply(lambda x: 1 if x >= idx else 0)\n",
    "    return f1_score(y_true,y_pred, pos_label=1.0)\n",
    "def rmsew_loss(y_true, y_pred):\n",
    "    value = mean_squared_error(y_true,y_pred,sample_weight = y_true)\n",
    "    if value < 0 :\n",
    "        value = -value\n",
    "    return value\n",
    "scorer = make_scorer(custom_loss, greater_is_better=True)\n",
    "\n",
    "################### test\n",
    "from sklearn.model_selection import RandomizedSearchCV, KFold\n",
    "import scipy as sp\n",
    "import scipy.stats as stats\n",
    "from xgboost import XGBRegressor\n",
    "kfold = KFold(n_splits=10, shuffle=True, random_state=0)\n",
    "clf_xgb = XGBRegressor( n_jobs=4)\n",
    "               \n",
    "param_dist = {'n_estimators': stats.randint(150, 1500),\n",
    "              'objective':['reg:linear','reg:tweedie','reg:logistic'],\n",
    "              'learning_rate': stats.uniform(0.001, 0.6),\n",
    "              'max_depth': [3, 4, 5, 6, 7, 8, 9,10,11,12,13],\n",
    "              'gamma': stats.uniform(0.01, 2.0),\n",
    "              'reg_lambda': stats.uniform(0.1, 50),\n",
    "              'reg_alpha': stats.uniform(0.1, 50),\n",
    "              'subsample': [0.5,0.6,0.7,0.8,0.9],\n",
    "              'colsample_bytree': [0.5,0.6,0.7,0.8,0.9],\n",
    "              'min_child_weight': stats.randint(1, 12)\n",
    "             }\n",
    "clf = RandomizedSearchCV(clf_xgb, param_distributions = param_dist, n_iter = 50, scoring = scorer, cv=kfold, error_score = 0, verbose = 5, n_jobs = 4, random_state=42)\n",
    "\n",
    "clf.fit(X_validation, y_v)\n",
    "\n",
    "best_score = clf.best_score_\n",
    "best_params = clf.best_params_\n",
    "best_estimator_ = clf.best_estimator_\n",
    "print(\"Best score: {}\".format(best_score))\n",
    "print(\"Best params: {}\".format(best_params))\n",
    "print(\"Best estimator_: {}\".format(best_estimator_))\n",
    "################### test\n",
    "\n",
    "pred = clf.predict(X_validation)\n",
    "most_big = 0\n",
    "idx = 0\n",
    "for i in np.arange(0.1, 0.4, 0.01):\n",
    "    pred_ = pd.Series(pred).apply(lambda x: 1 if x >= i else 0)\n",
    "    loss = f1_score(y_v,pred_, pos_label=1.0)\n",
    "    if most_big < loss:\n",
    "        most_big = loss\n",
    "        idx = i\n",
    "print(\"condition : {0}, f1: {1}\".format(idx, most_big)) \n",
    "pred = clf.predict(X_validation)\n",
    "pred = pd.Series(pred).apply(lambda x: 1 if x >= idx else 0)\n",
    "print('accuracy', accuracy_score(y_v,pred) )\n",
    "print('precision', precision_score(y_v,pred, pos_label=1.0) )\n",
    "print('recall', recall_score(y_v,pred, pos_label=1.0) )\n",
    "print('f1', f1_score(y_v,pred, pos_label=1.0) )\n",
    "'''"
   ]
  },
  {
   "cell_type": "code",
   "execution_count": 18,
   "metadata": {},
   "outputs": [
    {
     "data": {
      "text/plain": [
       "\"\\nBest score: 0.5550077639609884\\nBest params: {'colsample_bytree': 0.8, 'gamma': 1.3651287236845648, 'learning_rate': 0.01095269735671369, 'max_depth': 5, 'min_child_weight': 3, 'n_estimators': 1321, 'objective': 'reg:logistic', 'reg_alpha': 8.818321450249572, 'reg_lambda': 34.646886905123296, 'subsample': 0.6}\\nBest estimator_: XGBRegressor(base_score=0.5, booster='gbtree', colsample_bylevel=1,\\n             colsample_bytree=0.8, gamma=1.3651287236845648,\\n             importance_type='gain', learning_rate=0.01095269735671369,\\n             max_delta_step=0, max_depth=5, min_child_weight=3, missing=None,\\n             n_estimators=1321, n_jobs=4, nthread=None,\\n             objective='reg:logistic', random_state=0,\\n             reg_alpha=8.818321450249572, reg_lambda=34.646886905123296,\\n             scale_pos_weight=1, seed=None, silent=True, subsample=0.6)\\ncondition : 0.2799999999999999, f1: 0.5812307842467426\\naccuracy 0.8701756509372589\\nprecision 0.5150492994291646\\nrecall 0.6669279874566021\\nf1 0.5812307842467426\\n\""
      ]
     },
     "execution_count": 18,
     "metadata": {},
     "output_type": "execute_result"
    }
   ],
   "source": [
    "'''\n",
    "Best score: 0.5550077639609884\n",
    "Best params: {'colsample_bytree': 0.8, 'gamma': 1.3651287236845648, 'learning_rate': 0.01095269735671369, 'max_depth': 5, 'min_child_weight': 3, 'n_estimators': 1321, 'objective': 'reg:logistic', 'reg_alpha': 8.818321450249572, 'reg_lambda': 34.646886905123296, 'subsample': 0.6}\n",
    "Best estimator_: XGBRegressor(base_score=0.5, booster='gbtree', colsample_bylevel=1,\n",
    "             colsample_bytree=0.8, gamma=1.3651287236845648,\n",
    "             importance_type='gain', learning_rate=0.01095269735671369,\n",
    "             max_delta_step=0, max_depth=5, min_child_weight=3, missing=None,\n",
    "             n_estimators=1321, n_jobs=4, nthread=None,\n",
    "             objective='reg:logistic', random_state=0,\n",
    "             reg_alpha=8.818321450249572, reg_lambda=34.646886905123296,\n",
    "             scale_pos_weight=1, seed=None, silent=True, subsample=0.6)\n",
    "condition : 0.2799999999999999, f1: 0.5812307842467426\n",
    "accuracy 0.8701756509372589\n",
    "precision 0.5150492994291646\n",
    "recall 0.6669279874566021\n",
    "f1 0.5812307842467426\n",
    "'''"
   ]
  },
  {
   "cell_type": "markdown",
   "metadata": {},
   "source": [
    "# Model Select & Traing\n",
    "\n",
    "RandomForest, SVC, Neural Net, XGB, LGM 등 여러 가지 모델에 대해 성능평가를 진행하였지만\n",
    "\n",
    "XGBRegressor를 이용한 예측이 가장 높은 F1_score를 얻을 수 있었다.\n",
    "\n",
    "목적은 Classification이지만, Threshould를 조절하기 위해 Regressor를 사용하고 \n",
    "\n",
    "일정 기준 이상이면 1, 미만이면 0으로 치환하였다.\n",
    "\n"
   ]
  },
  {
   "cell_type": "code",
   "execution_count": 23,
   "metadata": {
    "scrolled": true
   },
   "outputs": [
    {
     "name": "stdout",
     "output_type": "stream",
     "text": [
      "condition : 0.29999999999999993, f1: 0.5696919748635006\n",
      "accuracy 0.8736099974280225\n",
      "precision 0.5274201239866476\n",
      "recall 0.6193302721469369\n",
      "f1 0.5696919748635006\n",
      "N    2375\n",
      "Y     582\n",
      "dtype: int64\n"
     ]
    }
   ],
   "source": [
    "from xgboost import XGBRegressor\n",
    "\n",
    "xgb_r = XGBRegressor(objective = 'reg:logistic' , \n",
    "                     colsample_bytree = 0.8,\n",
    "                     gamma=1.3651287236845648,\n",
    "                     learning_rate=0.01095269735671369, \n",
    "                     max_depth=5,\n",
    "                     min_child_weight = 3,\n",
    "                     n_estimators=1421,\n",
    "                     reg_alpha= 26.01648261818684,\n",
    "                     reg_lambda=43.96865359639777,\n",
    "                     subsample=0.6,n_jobs=2)\n",
    "xgb_r.fit(X_train, y_t)\n",
    "pred = xgb_r.predict(X_train)\n",
    "most_big = 0\n",
    "idx = 0\n",
    "for i in np.arange(0.1, 0.4, 0.01):\n",
    "    pred_ = pd.Series(pred).apply(lambda x: 1 if x >= i else 0)\n",
    "    loss = f1_score(y_t,pred_, pos_label=1.0)\n",
    "    if most_big < loss:\n",
    "        most_big = loss\n",
    "        idx = i\n",
    "print(\"condition : {0}, f1: {1}\".format(idx, most_big)) \n",
    "\n",
    "pred = xgb_r.predict(X_train)\n",
    "pred = pd.Series(pred).apply(lambda x: 1 if x >= idx else 0)\n",
    "print('accuracy', accuracy_score(y_t,pred) )\n",
    "\n",
    "print('precision', precision_score(y_t,pred, pos_label=1.0) )\n",
    "\n",
    "print('recall', recall_score(y_t,pred, pos_label=1.0) )\n",
    "\n",
    "print('f1', f1_score(y_t,pred, pos_label=1.0) )\n",
    "\n",
    "submission_value = xgb_r.predict(x_submission) \n",
    "submission_value = pd.Series(submission_value).apply(lambda x: 'Y' if x >= idx else 'N')\n",
    "submission_value = pd.Series(submission_value)\n",
    "submission_value.to_csv('submission.csv')\n",
    "print(submission_value.value_counts())"
   ]
  },
  {
   "cell_type": "markdown",
   "metadata": {},
   "source": [
    "# Validation \n",
    "\n",
    "KFold로 교차 검증을 진행하여 overfitting이 일어났는지 확인하였다"
   ]
  },
  {
   "cell_type": "code",
   "execution_count": null,
   "metadata": {},
   "outputs": [],
   "source": [
    "'''from sklearn.model_selection import cross_val_score, KFold\n",
    "from sklearn.metrics.scorer import make_scorer\n",
    "\n",
    "def custom_loss(y_true, y_pred):\n",
    "    most_big = 0\n",
    "    idx = 0\n",
    "    for i in np.arange(0.01, 0.4, 0.01):\n",
    "        pred = pd.Series(y_pred).apply(lambda x: 1 if x >= i else 0)\n",
    "        loss = f1_score(y_true,pred, pos_label=1.0)\n",
    "        if most_big < loss:\n",
    "            most_big = loss\n",
    "            idx = i\n",
    "    y_pred = pd.Series(y_pred).apply(lambda x: 1 if x >= idx else 0)\n",
    "    return f1_score(y_true,y_pred, pos_label=1.0)\n",
    "\n",
    "scorer = make_scorer(custom_loss, greater_is_better=True)\n",
    "\n",
    "kfold = KFold(n_splits=10)\n",
    "scores= cross_val_score(xgb_r,X_train, y_t, cv=kfold, scoring=scorer,n_jobs=4)\n",
    "print(scores.mean())'''"
   ]
  },
  {
   "cell_type": "markdown",
   "metadata": {},
   "source": [
    "Threshould에 따라 F1_score가 어떻게 변화하는지 확인하는 작업"
   ]
  },
  {
   "cell_type": "code",
   "execution_count": 20,
   "metadata": {},
   "outputs": [
    {
     "name": "stdout",
     "output_type": "stream",
     "text": [
      "condition : 0.29899999999999977, f1: 0.5699897225077082\n"
     ]
    }
   ],
   "source": [
    "list_test = []\n",
    "most_big = 0\n",
    "idx = 0\n",
    "pred = xgb_r.predict(X_train)\n",
    "for i in np.arange(0.01, 0.5, 0.001):\n",
    "    \n",
    "    pred_ = pd.Series(pred).apply(lambda x: 1 if x >= i else 0)\n",
    "    loss = f1_score(y_t,pred_, pos_label=1.0)\n",
    "    list_test.append(loss)\n",
    "    if most_big < loss:\n",
    "        most_big = loss\n",
    "        idx = i\n",
    "        \n",
    "print(\"condition : {0}, f1: {1}\".format(idx, most_big)) \n"
   ]
  },
  {
   "cell_type": "code",
   "execution_count": 21,
   "metadata": {
    "scrolled": true
   },
   "outputs": [
    {
     "data": {
      "text/plain": [
       "[<matplotlib.lines.Line2D at 0x26d1305dd30>]"
      ]
     },
     "execution_count": 21,
     "metadata": {},
     "output_type": "execute_result"
    },
    {
     "data": {
      "image/png": "[encoded data removed]",
      "text/plain": [
       "<Figure size 432x288 with 1 Axes>"
      ]
     },
     "metadata": {
      "needs_background": "light"
     },
     "output_type": "display_data"
    }
   ],
   "source": [
    "plt.plot(np.arange(0.01, 0.5, 0.001), list_test, 'ro')"
   ]
  },
  {
   "cell_type": "markdown",
   "metadata": {},
   "source": [
    "각 변수에 대한 중요도를 측정하여 특정 변수를 특별하게 스케일링 하려 하였지만 \n",
    "\n",
    "변수 전체를 스케일링 하는 것이 더 높은 정확도를 보였다."
   ]
  },
  {
   "cell_type": "code",
   "execution_count": 22,
   "metadata": {
    "scrolled": false
   },
   "outputs": [
    {
     "data": {
      "image/png": "[encoded data removed]",
      "text/plain": [
       "<Figure size 1080x1440 with 1 Axes>"
      ]
     },
     "metadata": {
      "needs_background": "light"
     },
     "output_type": "display_data"
    }
   ],
   "source": [
    "feature_importance = xgb_r.feature_importances_\n",
    "Series_feat_imp = pd.Series(feature_importance, index=X_columns)\n",
    "plt.figure(figsize=(15, 20))\n",
    "Series_feat_imp.sort_values(ascending=True).plot.barh()\n",
    "plt.xlabel('Feature importance')\n",
    "plt.ylabel('Feature')\n",
    "plt.show()"
   ]
  },
  {
   "cell_type": "code",
   "execution_count": null,
   "metadata": {},
   "outputs": [],
   "source": []
  }
 ],
 "metadata": {
  "kernelspec": {
   "display_name": "Python 3",
   "language": "python",
   "name": "python3"
  },
  "language_info": {
   "codemirror_mode": {
    "name": "ipython",
    "version": 3
   },
   "file_extension": ".py",
   "mimetype": "text/x-python",
   "name": "python",
   "nbconvert_exporter": "python",
   "pygments_lexer": "ipython3",
   "version": "3.7.1"
  }
 },
 "nbformat": 4,
 "nbformat_minor": 2
}
